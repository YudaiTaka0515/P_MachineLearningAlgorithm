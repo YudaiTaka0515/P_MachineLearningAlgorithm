{
  "nbformat": 4,
  "nbformat_minor": 0,
  "metadata": {
    "colab": {
      "name": "0_Visualization.ipynb",
      "provenance": [],
      "authorship_tag": "ABX9TyMfI+zRbF/yRpf5Mdv84KlW",
      "include_colab_link": true
    },
    "kernelspec": {
      "name": "python3",
      "display_name": "Python 3"
    },
    "language_info": {
      "name": "python"
    }
  },
  "cells": [
    {
      "cell_type": "markdown",
      "metadata": {
        "id": "view-in-github",
        "colab_type": "text"
      },
      "source": [
        "<a href=\"https://colab.research.google.com/github/YudaiTaka0515/P_MachineLearningAlgorithm/blob/main/0_Visualization.ipynb\" target=\"_parent\"><img src=\"https://colab.research.google.com/assets/colab-badge.svg\" alt=\"Open In Colab\"/></a>"
      ]
    },
    {
      "cell_type": "code",
      "metadata": {
        "colab": {
          "base_uri": "https://localhost:8080/"
        },
        "id": "vdo6l1MX0pWg",
        "outputId": "602bd484-4453-4d1a-f488-5d0b9b989c70"
      },
      "source": [
        "!git clone https://github.com/YudaiTaka0515/P_MachineLearningAlgorithm.git"
      ],
      "execution_count": 3,
      "outputs": [
        {
          "output_type": "stream",
          "text": [
            "Cloning into 'P_MachineLearningAlgorithm'...\n",
            "warning: You appear to have cloned an empty repository.\n"
          ],
          "name": "stdout"
        }
      ]
    },
    {
      "cell_type": "code",
      "metadata": {
        "id": "B8s_PoDz2StZ"
      },
      "source": [
        "!git config --global user.email \"YudaiTakahashi0515@gmail.com\"\n",
        "!git config --global user.name \"YudaiTaka0515\""
      ],
      "execution_count": 4,
      "outputs": []
    },
    {
      "cell_type": "code",
      "metadata": {
        "colab": {
          "base_uri": "https://localhost:8080/"
        },
        "id": "Djk8iPNX4Yq_",
        "outputId": "b3d3c283-3e62-4cf4-ec7a-0045573497e5"
      },
      "source": [
        "!echo \"# P_MachineLearningAlgorithm\" >> README.md\n",
        "!git init\n",
        "!git add README.md\n",
        "!git commit -m \"first commit\"\n",
        "!git branch -M main\n",
        "!git remote add origin https://github.com/YudaiTaka0515/P_MachineLearningAlgorithm.git\n",
        "!git push -u origin main"
      ],
      "execution_count": 5,
      "outputs": [
        {
          "output_type": "stream",
          "text": [
            "Reinitialized existing Git repository in /content/.git/\n",
            "[master (root-commit) 246e514] first commit\n",
            " 1 file changed, 2 insertions(+)\n",
            " create mode 100644 README.md\n",
            "fatal: remote origin already exists.\n",
            "fatal: could not read Username for 'https://github.com': No such device or address\n"
          ],
          "name": "stdout"
        }
      ]
    },
    {
      "cell_type": "code",
      "metadata": {
        "id": "mPp5Ho1s4fm4"
      },
      "source": [
        ""
      ],
      "execution_count": null,
      "outputs": []
    }
  ]
}