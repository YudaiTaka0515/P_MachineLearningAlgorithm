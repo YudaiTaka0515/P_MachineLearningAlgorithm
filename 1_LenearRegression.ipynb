{
  "nbformat": 4,
  "nbformat_minor": 0,
  "metadata": {
    "colab": {
      "name": "1_LenearRegression.ipynb",
      "provenance": [],
      "authorship_tag": "ABX9TyOW/ZR0aVJHq1bRBAXeO4Cj",
      "include_colab_link": true
    },
    "kernelspec": {
      "name": "python3",
      "display_name": "Python 3"
    },
    "language_info": {
      "name": "python"
    }
  },
  "cells": [
    {
      "cell_type": "markdown",
      "metadata": {
        "id": "view-in-github",
        "colab_type": "text"
      },
      "source": [
        "<a href=\"https://colab.research.google.com/github/YudaiTaka0515/P_MachineLearningAlgorithm/blob/main/1_LenearRegression.ipynb\" target=\"_parent\"><img src=\"https://colab.research.google.com/assets/colab-badge.svg\" alt=\"Open In Colab\"/></a>"
      ]
    },
    {
      "cell_type": "markdown",
      "metadata": {
        "id": "lCL4Vl_zsjUX"
      },
      "source": [
        "# 線形回帰\n",
        "- 線形回帰のモデルの呼び出し方\n",
        "- model.fitさせるときの注意点\n",
        "- 傾きと切片の取得方法"
      ]
    },
    {
      "cell_type": "code",
      "metadata": {
        "id": "8tRI9hiCpR-P"
      },
      "source": [
        "from sklearn.linear_model import LinearRegression\n",
        "import matplotlib.pyplot as plt\n",
        "import numpy as np"
      ],
      "execution_count": 4,
      "outputs": []
    },
    {
      "cell_type": "code",
      "metadata": {
        "colab": {
          "base_uri": "https://localhost:8080/",
          "height": 282
        },
        "id": "oKzfnClNpnDX",
        "outputId": "60fb71f1-c86d-4a97-a272-db29a819d620"
      },
      "source": [
        "X = np.random.rand(100)*10\n",
        "Y = X * (2+np.random.rand(100))\n",
        "plt.scatter(X, Y, s=10)"
      ],
      "execution_count": 17,
      "outputs": [
        {
          "output_type": "execute_result",
          "data": {
            "text/plain": [
              "<matplotlib.collections.PathCollection at 0x7ffae1bc56d0>"
            ]
          },
          "metadata": {
            "tags": []
          },
          "execution_count": 17
        },
        {
          "output_type": "display_data",
          "data": {
            "image/png": "[encoded data removed]",
            "text/plain": [
              "<Figure size 432x288 with 1 Axes>"
            ]
          },
          "metadata": {
            "tags": [],
            "needs_background": "light"
          }
        }
      ]
    },
    {
      "cell_type": "code",
      "metadata": {
        "colab": {
          "base_uri": "https://localhost:8080/"
        },
        "id": "tm3K09V_p8NI",
        "outputId": "24e5ea51-69de-4bef-d1d2-b39580dae354"
      },
      "source": [
        "# 線形回帰\n",
        "# Xは二次元配列にする必要があるようです\n",
        "X = [[x] for x in X]\n",
        "model = LinearRegression()\n",
        "model.fit(X, Y)"
      ],
      "execution_count": 19,
      "outputs": [
        {
          "output_type": "execute_result",
          "data": {
            "text/plain": [
              "LinearRegression(copy_X=True, fit_intercept=True, n_jobs=None, normalize=False)"
            ]
          },
          "metadata": {
            "tags": []
          },
          "execution_count": 19
        }
      ]
    },
    {
      "cell_type": "code",
      "metadata": {
        "colab": {
          "base_uri": "https://localhost:8080/",
          "height": 299
        },
        "id": "lic_sKkcqdIS",
        "outputId": "aad353ce-b789-4334-a86f-bab76156fca4"
      },
      "source": [
        "a, b = model.coef_, model.intercept_\n",
        "pred = a * X + b\n",
        "print(\"傾き={}, 切片={}\".format(a, b))\n",
        "plt.plot(X, pred, label='linear regression')\n",
        "plt.scatter(X, Y, s=5, c='red', label='data')\n",
        "plt.legend()"
      ],
      "execution_count": 25,
      "outputs": [
        {
          "output_type": "stream",
          "text": [
            "傾き=[2.5595997], 切片=-0.08114233079827393\n"
          ],
          "name": "stdout"
        },
        {
          "output_type": "execute_result",
          "data": {
            "text/plain": [
              "<matplotlib.legend.Legend at 0x7ffadd9657d0>"
            ]
          },
          "metadata": {
            "tags": []
          },
          "execution_count": 25
        },
        {
          "output_type": "display_data",
          "data": {
            "image/png": "[encoded data removed]",
            "text/plain": [
              "<Figure size 432x288 with 1 Axes>"
            ]
          },
          "metadata": {
            "tags": [],
            "needs_background": "light"
          }
        }
      ]
    },
    {
      "cell_type": "code",
      "metadata": {
        "id": "GC0Ka79rrn2y"
      },
      "source": [
        ""
      ],
      "execution_count": null,
      "outputs": []
    }
  ]
}